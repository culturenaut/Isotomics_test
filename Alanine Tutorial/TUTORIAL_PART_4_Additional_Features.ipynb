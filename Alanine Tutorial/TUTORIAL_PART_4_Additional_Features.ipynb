{
 "cells": [
  {
   "attachments": {},
   "cell_type": "markdown",
   "metadata": {},
   "source": [
    "The material in this tutorial deals with questions and concerns users have had subsequent to publication of the isotomics paper. Currently, it addresses the following topics:\n",
    "\n",
    "- generating explicit errors for each ion beam of a simulated dataset."
   ]
  },
  {
   "cell_type": "code",
   "execution_count": 1,
   "metadata": {},
   "outputs": [],
   "source": [
    "#global imports\n",
    "import sys; sys.path.insert(0, '..')\n",
    "\n",
    "from datetime import date\n",
    "\n",
    "today = date.today()\n",
    "\n",
    "import copy\n",
    "import json\n",
    "\n",
    "import numpy as np\n",
    "import pandas as pd\n",
    "from tqdm import tqdm\n",
    "import matplotlib.pyplot as plt\n",
    "import seaborn as sns\n",
    "\n",
    "import basicDeltaOperations as op\n",
    "import calcIsotopologues as ci\n",
    "import fragmentAndSimulate as fas\n",
    "import solveSystem as ss\n",
    "import alanineTest\n",
    "import spectrumVis\n",
    "import readInput as ri"
   ]
  },
  {
   "cell_type": "code",
   "execution_count": 2,
   "metadata": {},
   "outputs": [
    {
     "name": "stdout",
     "output_type": "stream",
     "text": [
      "Delta 18O\n",
      "0.0\n",
      "Calculating Isotopologue Concentrations\n"
     ]
    },
    {
     "name": "stderr",
     "output_type": "stream",
     "text": [
      "100%|██████████| 1512/1512 [00:00<00:00, 79686.72it/s]\n"
     ]
    },
    {
     "name": "stdout",
     "output_type": "stream",
     "text": [
      "Compiling Isotopologue Dictionary\n"
     ]
    },
    {
     "name": "stderr",
     "output_type": "stream",
     "text": [
      "100%|██████████| 1512/1512 [00:00<00:00, 58645.86it/s]\n"
     ]
    },
    {
     "name": "stdout",
     "output_type": "stream",
     "text": [
      "Simulating Measurement\n",
      "Delta 18O\n",
      "0.0\n",
      "Calculating Isotopologue Concentrations\n"
     ]
    },
    {
     "name": "stderr",
     "output_type": "stream",
     "text": [
      "100%|██████████| 1512/1512 [00:00<00:00, 79483.97it/s]\n"
     ]
    },
    {
     "name": "stdout",
     "output_type": "stream",
     "text": [
      "Compiling Isotopologue Dictionary\n"
     ]
    },
    {
     "name": "stderr",
     "output_type": "stream",
     "text": [
      "100%|██████████| 1512/1512 [00:00<00:00, 72866.47it/s]\n"
     ]
    },
    {
     "name": "stdout",
     "output_type": "stream",
     "text": [
      "Simulating Measurement\n",
      "Delta 18O\n",
      "0.0\n",
      "Calculating Isotopologue Concentrations\n"
     ]
    },
    {
     "name": "stderr",
     "output_type": "stream",
     "text": [
      "100%|██████████| 1512/1512 [00:00<00:00, 80793.28it/s]\n"
     ]
    },
    {
     "name": "stdout",
     "output_type": "stream",
     "text": [
      "Compiling Isotopologue Dictionary\n"
     ]
    },
    {
     "name": "stderr",
     "output_type": "stream",
     "text": [
      "100%|██████████| 1512/1512 [00:00<00:00, 69350.84it/s]\n"
     ]
    },
    {
     "name": "stdout",
     "output_type": "stream",
     "text": [
      "Simulating Measurement\n"
     ]
    },
    {
     "name": "stderr",
     "output_type": "stream",
     "text": [
      "100%|██████████| 100/100 [00:00<00:00, 382.51it/s]\n"
     ]
    },
    {
     "name": "stdout",
     "output_type": "stream",
     "text": [
      "Solution is underconstrained\n",
      "processM1MCResults will not work with GJ Solution\n",
      "After solving null space:\n",
      "Actually Constrained:\n",
      "13C Ccarboxyl\n",
      "13C Calphabeta\n",
      "15N Namine\n",
      "D Hretained\n"
     ]
    },
    {
     "name": "stderr",
     "output_type": "stream",
     "text": [
      "100%|██████████| 100/100 [00:00<00:00, 545.40it/s]\n"
     ]
    },
    {
     "data": {
      "text/html": [
       "<div>\n",
       "<style scoped>\n",
       "    .dataframe tbody tr th:only-of-type {\n",
       "        vertical-align: middle;\n",
       "    }\n",
       "\n",
       "    .dataframe tbody tr th {\n",
       "        vertical-align: top;\n",
       "    }\n",
       "\n",
       "    .dataframe thead th {\n",
       "        text-align: right;\n",
       "    }\n",
       "</style>\n",
       "<table border=\"1\" class=\"dataframe\">\n",
       "  <thead>\n",
       "    <tr style=\"text-align: right;\">\n",
       "      <th></th>\n",
       "      <th>IDS</th>\n",
       "      <th>Number</th>\n",
       "      <th>deltas</th>\n",
       "      <th>full_01</th>\n",
       "      <th>44_01</th>\n",
       "      <th>VPDB etc. Deltas</th>\n",
       "      <th>VPDB etc. Deltas Error</th>\n",
       "      <th>Relative Deltas</th>\n",
       "      <th>Relative Deltas Error</th>\n",
       "      <th>M1 M+N Relative Abundance</th>\n",
       "      <th>M1 M+N Relative Abundance Error</th>\n",
       "      <th>UM1</th>\n",
       "      <th>UM1 Error</th>\n",
       "      <th>Calc U Values</th>\n",
       "      <th>Calc U Values Error</th>\n",
       "    </tr>\n",
       "  </thead>\n",
       "  <tbody>\n",
       "    <tr>\n",
       "      <th>Calphabeta</th>\n",
       "      <td>C</td>\n",
       "      <td>2</td>\n",
       "      <td>-30</td>\n",
       "      <td>1</td>\n",
       "      <td>1</td>\n",
       "      <td>-40.415787</td>\n",
       "      <td>1.665003</td>\n",
       "      <td>-10.737925</td>\n",
       "      <td>1.716498</td>\n",
       "      <td>0.563792</td>\n",
       "      <td>0.000814</td>\n",
       "      <td>0.038057</td>\n",
       "      <td>0.000041</td>\n",
       "      <td>0.021456</td>\n",
       "      <td>0.000037</td>\n",
       "    </tr>\n",
       "    <tr>\n",
       "      <th>Ccarboxyl</th>\n",
       "      <td>C</td>\n",
       "      <td>1</td>\n",
       "      <td>-30</td>\n",
       "      <td>1</td>\n",
       "      <td>x</td>\n",
       "      <td>-19.171980</td>\n",
       "      <td>3.324461</td>\n",
       "      <td>11.162907</td>\n",
       "      <td>3.427279</td>\n",
       "      <td>0.288138</td>\n",
       "      <td>0.001177</td>\n",
       "      <td>0.038057</td>\n",
       "      <td>0.000041</td>\n",
       "      <td>0.010966</td>\n",
       "      <td>0.000037</td>\n",
       "    </tr>\n",
       "    <tr>\n",
       "      <th>Ocarboxyl</th>\n",
       "      <td>O</td>\n",
       "      <td>2</td>\n",
       "      <td>0</td>\n",
       "      <td>1</td>\n",
       "      <td>x</td>\n",
       "      <td>-295.277302</td>\n",
       "      <td>35.972240</td>\n",
       "      <td>-295.277302</td>\n",
       "      <td>35.972240</td>\n",
       "      <td>0.014069</td>\n",
       "      <td>0.000708</td>\n",
       "      <td>0.038057</td>\n",
       "      <td>0.000041</td>\n",
       "      <td>0.000535</td>\n",
       "      <td>0.000027</td>\n",
       "    </tr>\n",
       "    <tr>\n",
       "      <th>Namine</th>\n",
       "      <td>N</td>\n",
       "      <td>1</td>\n",
       "      <td>0</td>\n",
       "      <td>1</td>\n",
       "      <td>1</td>\n",
       "      <td>-10.490522</td>\n",
       "      <td>2.440298</td>\n",
       "      <td>-10.490522</td>\n",
       "      <td>2.440298</td>\n",
       "      <td>0.095578</td>\n",
       "      <td>0.000217</td>\n",
       "      <td>0.038057</td>\n",
       "      <td>0.000041</td>\n",
       "      <td>0.003637</td>\n",
       "      <td>0.000009</td>\n",
       "    </tr>\n",
       "    <tr>\n",
       "      <th>Hretained</th>\n",
       "      <td>H</td>\n",
       "      <td>6</td>\n",
       "      <td>0</td>\n",
       "      <td>1</td>\n",
       "      <td>1</td>\n",
       "      <td>-8.296931</td>\n",
       "      <td>46.256212</td>\n",
       "      <td>-8.296931</td>\n",
       "      <td>46.256212</td>\n",
       "      <td>0.024353</td>\n",
       "      <td>0.001135</td>\n",
       "      <td>0.038057</td>\n",
       "      <td>0.000041</td>\n",
       "      <td>0.000927</td>\n",
       "      <td>0.000043</td>\n",
       "    </tr>\n",
       "    <tr>\n",
       "      <th>Hlost</th>\n",
       "      <td>H</td>\n",
       "      <td>2</td>\n",
       "      <td>0</td>\n",
       "      <td>1</td>\n",
       "      <td>x</td>\n",
       "      <td>718.824814</td>\n",
       "      <td>87.736608</td>\n",
       "      <td>718.824814</td>\n",
       "      <td>87.736608</td>\n",
       "      <td>0.014069</td>\n",
       "      <td>0.000708</td>\n",
       "      <td>0.038057</td>\n",
       "      <td>0.000041</td>\n",
       "      <td>0.000535</td>\n",
       "      <td>0.000027</td>\n",
       "    </tr>\n",
       "  </tbody>\n",
       "</table>\n",
       "</div>"
      ],
      "text/plain": [
       "           IDS Number deltas full_01 44_01  VPDB etc. Deltas  \\\n",
       "Calphabeta   C      2    -30       1     1        -40.415787   \n",
       "Ccarboxyl    C      1    -30       1     x        -19.171980   \n",
       "Ocarboxyl    O      2      0       1     x       -295.277302   \n",
       "Namine       N      1      0       1     1        -10.490522   \n",
       "Hretained    H      6      0       1     1         -8.296931   \n",
       "Hlost        H      2      0       1     x        718.824814   \n",
       "\n",
       "            VPDB etc. Deltas Error  Relative Deltas  Relative Deltas Error  \\\n",
       "Calphabeta                1.665003       -10.737925               1.716498   \n",
       "Ccarboxyl                 3.324461        11.162907               3.427279   \n",
       "Ocarboxyl                35.972240      -295.277302              35.972240   \n",
       "Namine                    2.440298       -10.490522               2.440298   \n",
       "Hretained                46.256212        -8.296931              46.256212   \n",
       "Hlost                    87.736608       718.824814              87.736608   \n",
       "\n",
       "            M1 M+N Relative Abundance  M1 M+N Relative Abundance Error  \\\n",
       "Calphabeta                   0.563792                         0.000814   \n",
       "Ccarboxyl                    0.288138                         0.001177   \n",
       "Ocarboxyl                    0.014069                         0.000708   \n",
       "Namine                       0.095578                         0.000217   \n",
       "Hretained                    0.024353                         0.001135   \n",
       "Hlost                        0.014069                         0.000708   \n",
       "\n",
       "                 UM1  UM1 Error  Calc U Values  Calc U Values Error  \n",
       "Calphabeta  0.038057   0.000041       0.021456             0.000037  \n",
       "Ccarboxyl   0.038057   0.000041       0.010966             0.000037  \n",
       "Ocarboxyl   0.038057   0.000041       0.000535             0.000027  \n",
       "Namine      0.038057   0.000041       0.003637             0.000009  \n",
       "Hretained   0.038057   0.000041       0.000927             0.000043  \n",
       "Hlost       0.038057   0.000041       0.000535             0.000027  "
      ]
     },
     "execution_count": 2,
     "metadata": {},
     "output_type": "execute_result"
    }
   ],
   "source": [
    "#Generating explicit errors for each ion beam of a dataset\n",
    "'''\n",
    "In Tutorial Part 3, we specified that the error for each observed ion beam of our simulation had the same (relative) size, for example, 1 per mil. If a 13C ion beam was observed with this error, then a 15N and 2H ion beam would also have the same error. \n",
    "\n",
    "This scenario is unrealistic, so we include a way to model error bars more explicitly. To do so, set a dictionary giving the explicit error bars (as in 'explicit errors', below). These are all in relative terms; so in the below dictionary, the full ion beam, 'D' substitution has an error of 5 per mil, while the '15N' substitution has an error of 2 per mil.\n",
    "\n",
    "Then, include this 'explicitErrors' dictionary as the input to the readComputedData function, below. \n",
    "\n",
    "All of the other code is as written in Tutorial part 3, and included here so this solution stands alone and is easy to replicate. \n",
    "'''\n",
    "\n",
    "#Set dictionary of explicit\n",
    "explicitErrors = {'M1':{'full':{'D':0.005,'15N':0.002,'13C':0.001,'17O':0.010},\n",
    "                        '44':{'Unsub':0.001,'D':0.005,'15N':0.002,'13C':0.001}}}\n",
    "###GENERATE SAMPLE DATA\n",
    "deltasSmp = [-40,-20,0,-10,25,40]\n",
    "fragSubset = ['full', '44']\n",
    "df, expandedFrags, fragSubgeometryKeys, fragmentationDictionary = alanineTest.initializeAlanine(deltasSmp, fragSubset)\n",
    "unresolvedDict = {}\n",
    "calcFF = True\n",
    "forbiddenPeaks = {'M1':{'full':['17O','D'],'44':['D']}}\n",
    "UValueList = ['13C']\n",
    "unresolvedDict = {'M1':{'full':{'17O':'13C'}}}\n",
    "predictedMeasurement, MNDict, fractionationFactors = alanineTest.simulateMeasurement(df, fragmentationDictionary, \n",
    "                                                                                 expandedFrags, fragSubgeometryKeys, \n",
    "                                                   abundanceThreshold = 0.0,\n",
    "                                                   outputPath = str(today) + \" TUTORIAL 3 Sample\",\n",
    "                                                               calcFF = True,\n",
    "                                                               ffstd = 0.05,\n",
    "                                                   unresolvedDict = unresolvedDict,\n",
    "                                                   outputFull = False,\n",
    "                                                   omitMeasurements = forbiddenPeaks,\n",
    "                                                   UValueList = UValueList,\n",
    "                                                   massThreshold = 1)\n",
    "                                                   \n",
    "###GENERATE STANDARD DATA\n",
    "deltasStd = [-30,-30,0,0,0,0]\n",
    "df, expandedFrags, fragSubgeometryKeys, fragmentationDictionary = alanineTest.initializeAlanine(deltasStd, fragSubset)\n",
    "\n",
    "predictedMeasurement, MNDict, FF = alanineTest.simulateMeasurement(df, fragmentationDictionary, \n",
    "                                                                                 expandedFrags, fragSubgeometryKeys, \n",
    "                                                   abundanceThreshold = 0.0,\n",
    "                                                   outputPath = str(today) + \" TUTORIAL 3 Standard\",\n",
    "                                                               calcFF = False,\n",
    "                                                               ffstd = 0.05,\n",
    "                                                   fractionationFactors = fractionationFactors,\n",
    "                                                   unresolvedDict = unresolvedDict,\n",
    "                                                   outputFull = False,\n",
    "                                                   omitMeasurements = forbiddenPeaks,\n",
    "                                                   UValueList = UValueList,\n",
    "                                                   massThreshold = 1)\n",
    "\n",
    "###GENERATE FORWARD MODEL\n",
    "deltas = [-30,-30,0,0,0,0]\n",
    "fragSubset = ['full','44']\n",
    "df, expandedFrags, fragSubgeometryKeys, fragmentationDictionary = alanineTest.initializeAlanine(deltas, fragSubset)\n",
    "\n",
    "forbiddenPeaks = {}\n",
    "\n",
    "predictedMeasurement, MNDictStd, FF = alanineTest.simulateMeasurement(df, fragmentationDictionary, \n",
    "                                                                      expandedFrags, fragSubgeometryKeys, \n",
    "                                                   abundanceThreshold = 0,\n",
    "                                                     unresolvedDict = {},\n",
    "                                                    outputFull = False,\n",
    "                                                    omitMeasurements = forbiddenPeaks,\n",
    "                                                  massThreshold = 1)\n",
    "\n",
    "###READ AND SOLVE SYSTEM, NOTING THAT WE INPUT THE EXPLICITERRORS DICTIONARY\n",
    "standardJSON = ri.readJSON(str(today) + \" TUTORIAL 3 Standard.json\")\n",
    "processStandard = ri.readComputedData(standardJSON, error = explicitErrors, theory = predictedMeasurement)\n",
    "\n",
    "sampleJSON = ri.readJSON(str(today) + \" TUTORIAL 3 Sample.json\")\n",
    "processSample = ri.readComputedData(sampleJSON, error = explicitErrors)\n",
    "UValuesSmp = ri.readComputedUValues(sampleJSON, error = 0.0001)\n",
    "\n",
    "isotopologuesDict = fas.isotopologueDataFrame(MNDictStd, df)\n",
    "OCorrection = ss.OValueCorrectTheoretical(predictedMeasurement, processSample, massThreshold = 1)\n",
    "\n",
    "M1Results = ss.M1MonteCarlo(processStandard, processSample, OCorrection, isotopologuesDict,\n",
    "                            fragmentationDictionary, experimentalOCorrectList = [], \n",
    "                            N = 100, GJ = False, debugMatrix = False,\n",
    "                           perturbTheoryOAmt = 0.001, debugUnderconstrained = True, plotUnconstrained = False)\n",
    "\n",
    "processedResults = ss.processM1MCResults(M1Results, UValuesSmp, isotopologuesDict, df, GJ = False, \n",
    "                                         UMNSub = ['13C'])\n",
    "ss.updateSiteSpecificDfM1MC(processedResults, df)"
   ]
  },
  {
   "cell_type": "code",
   "execution_count": 3,
   "metadata": {},
   "outputs": [
    {
     "data": {
      "text/plain": [
       "{'M1': {'full': {'Subs': ['15N', '13C'],\n",
       "   'Predicted Abundance': [0.0961908829046088, 0.8513207144292605],\n",
       "   'Observed Abundance': [0.09783471811682339, 0.9021652818831767],\n",
       "   'Error': [0.00019566943623364677, 0.0009021652818831767],\n",
       "   'Perturbed': array([0.09796256, 0.90203744]),\n",
       "   'Correction Factor': array([1.01841833, 1.05957417])},\n",
       "  '44': {'Subs': ['Unsub', '15N', '13C'],\n",
       "   'Predicted Abundance': [0.31180709070203644,\n",
       "    0.0961908829046088,\n",
       "    0.5675471429528403],\n",
       "   'Observed Abundance': [0.3081031402169525,\n",
       "    0.08801863967348175,\n",
       "    0.6038782201095657],\n",
       "   'Error': [0.0003081031402169525,\n",
       "    0.0001760372793469635,\n",
       "    0.0006038782201095657],\n",
       "   'Perturbed': array([0.308197  , 0.08791448, 0.60388852]),\n",
       "   'Correction Factor': array([0.98842205, 0.91395854, 1.06403234])}}}"
      ]
     },
     "execution_count": 3,
     "metadata": {},
     "output_type": "execute_result"
    }
   ],
   "source": [
    "#If you wish to check the explicit error bars, do so by interrogating the processStandard (or Sample) variables\n",
    "processStandard"
   ]
  }
 ],
 "metadata": {
  "kernelspec": {
   "display_name": "Orbitrap",
   "language": "python",
   "name": "python3"
  },
  "language_info": {
   "codemirror_mode": {
    "name": "ipython",
    "version": 3
   },
   "file_extension": ".py",
   "mimetype": "text/x-python",
   "name": "python",
   "nbconvert_exporter": "python",
   "pygments_lexer": "ipython3",
   "version": "3.7.11"
  },
  "orig_nbformat": 4
 },
 "nbformat": 4,
 "nbformat_minor": 2
}
